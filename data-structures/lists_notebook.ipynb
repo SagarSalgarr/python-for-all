{
 "cells": [
  {
   "cell_type": "markdown",
   "metadata": {},
   "source": [
    "<h1> Using Lists as Stacks <h1>\n",
    "<p> Stack follows - Last In, First Out <p>"
   ]
  },
  {
   "cell_type": "code",
   "execution_count": 6,
   "metadata": {},
   "outputs": [
    {
     "name": "stdout",
     "output_type": "stream",
     "text": [
      "[11, 22, 33, 44, 55]\n",
      "[11, 22, 33, 44, 55, 70]\n",
      "[11, 22, 33, 44, 55, 70, 5]\n",
      "[11, 22, 33, 44, 55, 70]\n",
      "[11, 22, 33, 55, 70]\n"
     ]
    }
   ],
   "source": [
    "stack = [11,22,33,44,55]\n",
    "print(stack)\n",
    "\n",
    "stack.append(70)\n",
    "print(stack)\n",
    "\n",
    "stack.append(5)\n",
    "print(stack)\n",
    "\n",
    "stack.pop()\n",
    "print(stack)\n",
    "\n",
    "stack.pop(3) #index number is required here\n",
    "print(stack)\n"
   ]
  },
  {
   "cell_type": "markdown",
   "metadata": {},
   "source": [
    "<h1> Using Lists as Queues <h1>\n",
    "<p> Queue follows - First In, First Out <p>"
   ]
  },
  {
   "cell_type": "code",
   "execution_count": 16,
   "metadata": {},
   "outputs": [
    {
     "name": "stdout",
     "output_type": "stream",
     "text": [
      "['q', 'w', 'e', 'r', 't', 'y']\n",
      "deque(['q', 'w', 'e', 'r', 't', 'y', 1])\n",
      "deque([100, 'q', 'w', 'e', 'r', 't', 'y', 1])\n",
      "deque([100, 'q', 'w', 'e', 'r', 't', 'y'])\n",
      "deque(['q', 'w', 'e', 'r', 't', 'y'])\n"
     ]
    }
   ],
   "source": [
    "from collections import deque\n",
    "que = deque('qwerty')\n",
    "print(list(que))\n",
    "\n",
    "que.append(1) #value to add\n",
    "print(que)\n",
    "\n",
    "que.appendleft(100)\n",
    "print(que)\n",
    "\n",
    "que.pop()\n",
    "print(que)\n",
    "\n",
    "que.popleft()\n",
    "print(que)\n",
    "\n",
    "\n"
   ]
  },
  {
   "cell_type": "markdown",
   "metadata": {},
   "source": [
    "<h1> List Comprehension </h1>\n",
    "<b>new_list = [expression <u>for</u> item <u>in</u> iterable <u>if</u> condition]</b>"
   ]
  },
  {
   "cell_type": "code",
   "execution_count": 18,
   "metadata": {},
   "outputs": [
    {
     "name": "stdout",
     "output_type": "stream",
     "text": [
      "[0, 1, 4, 9, 16]\n",
      "[0, 1, 8, 27, 64, 125, 216, 343, 512, 729]\n"
     ]
    }
   ],
   "source": [
    "#Simple Examples\n",
    "squares = [x**2 for x in range(0,5)]\n",
    "print(squares)\n",
    "\n",
    "cubes = [x**3 for x in range(0,10)] #from 0 to 9 cubes\n",
    "print(cubes)"
   ]
  },
  {
   "cell_type": "code",
   "execution_count": 20,
   "metadata": {},
   "outputs": [
    {
     "name": "stdout",
     "output_type": "stream",
     "text": [
      "[0, 2, 4, 6, 8]\n"
     ]
    }
   ],
   "source": [
    "#List Comprehension with Condition\n",
    "\n",
    "# Create a list of even numbers from 0 to 9\n",
    "evennum = [x for x in range(0,10) if x % 2 == 0]\n",
    "print(evennum)"
   ]
  },
  {
   "cell_type": "code",
   "execution_count": 22,
   "metadata": {},
   "outputs": [
    {
     "name": "stdout",
     "output_type": "stream",
     "text": [
      "['P', 'I', 'Y', 'U', 'S', 'H']\n"
     ]
    }
   ],
   "source": [
    "#List Comprehension with Transformation\n",
    "\n",
    "# Create a list of uppercase letters from a string\n",
    "string_demo = \"Piyush\"\n",
    "list = [x for x in string_demo.upper()]\n",
    "print(list)"
   ]
  },
  {
   "cell_type": "code",
   "execution_count": 29,
   "metadata": {},
   "outputs": [
    {
     "name": "stdout",
     "output_type": "stream",
     "text": [
      "[(1, 1), (1, 1), (1, 6), (2, 1), (2, 1), (2, 6), (3, 1), (3, 1), (3, 6)]\n",
      "[(1, 6), (2, 1), (2, 1), (2, 6), (3, 1), (3, 1), (3, 6)]\n"
     ]
    }
   ],
   "source": [
    "#combination\n",
    "\n",
    "comb = [(x,y) for x in [1,2,3] for y in [1,1,6]]\n",
    "print(comb)\n",
    "\n",
    "#with condition\n",
    "\n",
    "comb = [(x,y) for x in [1,2,3] for y in [1,1,6] if x!=y]\n",
    "print(comb)\n"
   ]
  },
  {
   "cell_type": "code",
   "execution_count": null,
   "metadata": {},
   "outputs": [],
   "source": []
  },
  {
   "cell_type": "code",
   "execution_count": null,
   "metadata": {},
   "outputs": [],
   "source": []
  },
  {
   "cell_type": "code",
   "execution_count": null,
   "metadata": {},
   "outputs": [],
   "source": []
  },
  {
   "cell_type": "code",
   "execution_count": null,
   "metadata": {},
   "outputs": [],
   "source": []
  },
  {
   "cell_type": "code",
   "execution_count": null,
   "metadata": {},
   "outputs": [],
   "source": []
  },
  {
   "cell_type": "code",
   "execution_count": null,
   "metadata": {},
   "outputs": [],
   "source": []
  },
  {
   "cell_type": "code",
   "execution_count": null,
   "metadata": {},
   "outputs": [],
   "source": []
  },
  {
   "cell_type": "code",
   "execution_count": null,
   "metadata": {},
   "outputs": [],
   "source": []
  },
  {
   "cell_type": "code",
   "execution_count": null,
   "metadata": {},
   "outputs": [],
   "source": []
  },
  {
   "cell_type": "code",
   "execution_count": null,
   "metadata": {},
   "outputs": [],
   "source": []
  },
  {
   "cell_type": "code",
   "execution_count": null,
   "metadata": {},
   "outputs": [],
   "source": []
  },
  {
   "cell_type": "code",
   "execution_count": null,
   "metadata": {},
   "outputs": [],
   "source": []
  },
  {
   "cell_type": "code",
   "execution_count": null,
   "metadata": {},
   "outputs": [],
   "source": []
  },
  {
   "cell_type": "code",
   "execution_count": null,
   "metadata": {},
   "outputs": [],
   "source": []
  },
  {
   "cell_type": "code",
   "execution_count": null,
   "metadata": {},
   "outputs": [],
   "source": []
  },
  {
   "cell_type": "code",
   "execution_count": null,
   "metadata": {},
   "outputs": [],
   "source": []
  },
  {
   "cell_type": "code",
   "execution_count": null,
   "metadata": {},
   "outputs": [],
   "source": []
  },
  {
   "cell_type": "code",
   "execution_count": null,
   "metadata": {},
   "outputs": [],
   "source": []
  },
  {
   "cell_type": "code",
   "execution_count": null,
   "metadata": {},
   "outputs": [],
   "source": []
  },
  {
   "cell_type": "code",
   "execution_count": null,
   "metadata": {},
   "outputs": [],
   "source": []
  },
  {
   "cell_type": "code",
   "execution_count": null,
   "metadata": {},
   "outputs": [],
   "source": []
  },
  {
   "cell_type": "code",
   "execution_count": null,
   "metadata": {},
   "outputs": [],
   "source": []
  },
  {
   "cell_type": "code",
   "execution_count": null,
   "metadata": {},
   "outputs": [],
   "source": []
  },
  {
   "cell_type": "code",
   "execution_count": null,
   "metadata": {},
   "outputs": [],
   "source": []
  },
  {
   "cell_type": "code",
   "execution_count": null,
   "metadata": {},
   "outputs": [],
   "source": []
  }
 ],
 "metadata": {
  "kernelspec": {
   "display_name": "Python 3",
   "language": "python",
   "name": "python3"
  },
  "language_info": {
   "codemirror_mode": {
    "name": "ipython",
    "version": 3
   },
   "file_extension": ".py",
   "mimetype": "text/x-python",
   "name": "python",
   "nbconvert_exporter": "python",
   "pygments_lexer": "ipython3",
   "version": "3.12.1"
  }
 },
 "nbformat": 4,
 "nbformat_minor": 2
}
