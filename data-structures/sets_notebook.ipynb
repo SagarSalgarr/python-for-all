{
 "cells": [
  {
   "cell_type": "markdown",
   "metadata": {},
   "source": [
    "<h1>Sets</h1>"
   ]
  },
  {
   "cell_type": "code",
   "execution_count": 4,
   "metadata": {},
   "outputs": [
    {
     "name": "stdout",
     "output_type": "stream",
     "text": [
      "{1, 2, 3, 4, '1', 'A'}\n"
     ]
    }
   ],
   "source": [
    "#Simple set\n",
    "\n",
    "set_demo = {1,2,3,4,1,3,4,'1','A'}\n",
    "print(set_demo)"
   ]
  },
  {
   "cell_type": "code",
   "execution_count": 7,
   "metadata": {},
   "outputs": [
    {
     "name": "stdout",
     "output_type": "stream",
     "text": [
      "{'l', 'o', 'h', 'e'}\n"
     ]
    }
   ],
   "source": [
    "#determining unique letters\n",
    "a = set('hheelloo')\n",
    "print(a)\n"
   ]
  },
  {
   "cell_type": "code",
   "execution_count": 54,
   "metadata": {},
   "outputs": [
    {
     "name": "stdout",
     "output_type": "stream",
     "text": [
      " Set a is {1, 2, 3, 4, 5, 6, 7, 8, 9, 10, 'P', 'V', 'J', 'A'}\n",
      " Set b is {'Y', 2, 'N', 4, 'H', 6, 8, 'P', 'T', 'O'}\n",
      "\n",
      "Difference between seta and setb (a -b) =  {1, 3, 5, 7, 9, 10, 'V', 'J', 'A'}\n",
      "\n",
      "Update seta {1, 2, 3, 4, 5, 6, 7, 8, 9, 10, 'm', 'P', 'V', 'J', 'G', 'e', 'A', 'a'}\n",
      "Add Operation on set a {1, 2, 3, 4, 5, 6, 7, 8, 9, 10, 'V', 'Piyush', 'a', 'm', 'P', 'G', 'e', 'A', 'J'}\n",
      "{1, 2, 3, 4, 5, 6, 7, 8, 9, 10, 'V', 'a', 'm', 'P', 'G', 'e', 'A', 'J'}\n",
      "{1, 2, 3, 4, 5, 6, 7, 8, 9, 10, 'a', 'm', 'P', 'G', 'e'}\n",
      "\n",
      "\n",
      "Getting Sets... \n",
      "\n",
      " Set a and Set b\n",
      "{1, 2, 3, 4, 5, 6, 7, 8, 9, 10, 'a', 'm', 'P', 'G', 'e'}\n",
      "{'Y', 2, 'N', 4, 'H', 6, 8, 'P', 'T', 'O'}\n",
      "\n",
      "a -b {1, 3, 5, 7, 9, 10, 'm', 'G', 'e', 'a'}\n",
      "a ^b (symmetrical difference) {1, 'Y', 3, 'N', 5, 'H', 7, 9, 10, 'm', 'T', 'O', 'G', 'e', 'a'}\n",
      "a | b (intersection)  {1, 2, 3, 4, 5, 6, 7, 8, 9, 10, 'H', 'a', 'Y', 'N', 'm', 'P', 'G', 'T', 'O', 'e'}\n"
     ]
    }
   ],
   "source": [
    "#Set Methods-\n",
    "set_a = {1,2,3,4,5,6,7,8,9,10, 'J','A','V','A','P'}\n",
    "set_b = {'P','Y','T','H','O','N',2,4,6,8}\n",
    "\n",
    "print(f\" Set a is {set_a}\\n Set b is {set_b}\")\n",
    "\n",
    "print(\"\\nDifference between seta and setb (a -b) = \",set_a.difference(set_b))\n",
    "\n",
    "#update\n",
    "set_a.update('Game')\n",
    "print(\"\\nUpdate seta\", set_a)\n",
    "\n",
    "#add\n",
    "set_a.add('Piyush')\n",
    "print(\"Add Operation on set a\",set_a)\n",
    "\n",
    "#remove\n",
    "set_a.remove('Piyush')\n",
    "print(set_a)\n",
    "\n",
    "#now i want to remove JAVA from set a - remove whole bundle of elements\n",
    "\n",
    "set_c = set(\"JAVA\")\n",
    "set_a.difference_update(set_c)\n",
    "print(set_a)\n",
    "\n",
    "#getting the sets to see what is present in them\n",
    "print(\"\\n\\nGetting Sets... \\n\\n Set a and Set b\")\n",
    "print(set_a)\n",
    "print(set_b)\n",
    "\n",
    "#more operations\n",
    "print(\"\")\n",
    "print(\"a -b\",set_a - set_b)\n",
    "print(\"a ^b (symmetrical difference)\",set_a ^ set_b)\n",
    "print(\"a | b (intersection) \",set_a | set_b)\n",
    "\n",
    "\n",
    "\n",
    "\n",
    "\n",
    "\n",
    "\n",
    "\n",
    "\n"
   ]
  },
  {
   "cell_type": "code",
   "execution_count": null,
   "metadata": {},
   "outputs": [],
   "source": []
  },
  {
   "cell_type": "code",
   "execution_count": null,
   "metadata": {},
   "outputs": [],
   "source": []
  },
  {
   "cell_type": "code",
   "execution_count": null,
   "metadata": {},
   "outputs": [],
   "source": []
  },
  {
   "cell_type": "code",
   "execution_count": null,
   "metadata": {},
   "outputs": [],
   "source": []
  },
  {
   "cell_type": "code",
   "execution_count": null,
   "metadata": {},
   "outputs": [],
   "source": []
  },
  {
   "cell_type": "code",
   "execution_count": null,
   "metadata": {},
   "outputs": [],
   "source": []
  },
  {
   "cell_type": "code",
   "execution_count": null,
   "metadata": {},
   "outputs": [],
   "source": []
  },
  {
   "cell_type": "code",
   "execution_count": null,
   "metadata": {},
   "outputs": [],
   "source": []
  },
  {
   "cell_type": "code",
   "execution_count": null,
   "metadata": {},
   "outputs": [],
   "source": []
  },
  {
   "cell_type": "code",
   "execution_count": null,
   "metadata": {},
   "outputs": [],
   "source": []
  },
  {
   "cell_type": "code",
   "execution_count": null,
   "metadata": {},
   "outputs": [],
   "source": []
  },
  {
   "cell_type": "code",
   "execution_count": null,
   "metadata": {},
   "outputs": [],
   "source": []
  },
  {
   "cell_type": "code",
   "execution_count": null,
   "metadata": {},
   "outputs": [],
   "source": []
  },
  {
   "cell_type": "code",
   "execution_count": null,
   "metadata": {},
   "outputs": [],
   "source": []
  },
  {
   "cell_type": "code",
   "execution_count": null,
   "metadata": {},
   "outputs": [],
   "source": []
  },
  {
   "cell_type": "code",
   "execution_count": null,
   "metadata": {},
   "outputs": [],
   "source": []
  },
  {
   "cell_type": "code",
   "execution_count": null,
   "metadata": {},
   "outputs": [],
   "source": []
  },
  {
   "cell_type": "code",
   "execution_count": null,
   "metadata": {},
   "outputs": [],
   "source": []
  },
  {
   "cell_type": "code",
   "execution_count": null,
   "metadata": {},
   "outputs": [],
   "source": []
  },
  {
   "cell_type": "code",
   "execution_count": null,
   "metadata": {},
   "outputs": [],
   "source": []
  },
  {
   "cell_type": "code",
   "execution_count": null,
   "metadata": {},
   "outputs": [],
   "source": []
  },
  {
   "cell_type": "code",
   "execution_count": null,
   "metadata": {},
   "outputs": [],
   "source": []
  },
  {
   "cell_type": "code",
   "execution_count": null,
   "metadata": {},
   "outputs": [],
   "source": []
  },
  {
   "cell_type": "code",
   "execution_count": null,
   "metadata": {},
   "outputs": [],
   "source": []
  },
  {
   "cell_type": "code",
   "execution_count": null,
   "metadata": {},
   "outputs": [],
   "source": []
  },
  {
   "cell_type": "code",
   "execution_count": null,
   "metadata": {},
   "outputs": [],
   "source": []
  },
  {
   "cell_type": "code",
   "execution_count": null,
   "metadata": {},
   "outputs": [],
   "source": []
  },
  {
   "cell_type": "code",
   "execution_count": null,
   "metadata": {},
   "outputs": [],
   "source": []
  },
  {
   "cell_type": "code",
   "execution_count": null,
   "metadata": {},
   "outputs": [],
   "source": []
  },
  {
   "cell_type": "code",
   "execution_count": null,
   "metadata": {},
   "outputs": [],
   "source": []
  },
  {
   "cell_type": "code",
   "execution_count": null,
   "metadata": {},
   "outputs": [],
   "source": []
  },
  {
   "cell_type": "code",
   "execution_count": null,
   "metadata": {},
   "outputs": [],
   "source": []
  },
  {
   "cell_type": "code",
   "execution_count": null,
   "metadata": {},
   "outputs": [],
   "source": []
  },
  {
   "cell_type": "code",
   "execution_count": null,
   "metadata": {},
   "outputs": [],
   "source": []
  },
  {
   "cell_type": "code",
   "execution_count": null,
   "metadata": {},
   "outputs": [],
   "source": []
  },
  {
   "cell_type": "code",
   "execution_count": null,
   "metadata": {},
   "outputs": [],
   "source": []
  },
  {
   "cell_type": "code",
   "execution_count": null,
   "metadata": {},
   "outputs": [],
   "source": []
  },
  {
   "cell_type": "code",
   "execution_count": null,
   "metadata": {},
   "outputs": [],
   "source": []
  },
  {
   "cell_type": "code",
   "execution_count": null,
   "metadata": {},
   "outputs": [],
   "source": []
  },
  {
   "cell_type": "code",
   "execution_count": null,
   "metadata": {},
   "outputs": [],
   "source": []
  },
  {
   "cell_type": "code",
   "execution_count": null,
   "metadata": {},
   "outputs": [],
   "source": []
  },
  {
   "cell_type": "code",
   "execution_count": null,
   "metadata": {},
   "outputs": [],
   "source": []
  },
  {
   "cell_type": "code",
   "execution_count": null,
   "metadata": {},
   "outputs": [],
   "source": []
  },
  {
   "cell_type": "code",
   "execution_count": null,
   "metadata": {},
   "outputs": [],
   "source": []
  },
  {
   "cell_type": "code",
   "execution_count": null,
   "metadata": {},
   "outputs": [],
   "source": []
  },
  {
   "cell_type": "code",
   "execution_count": null,
   "metadata": {},
   "outputs": [],
   "source": []
  },
  {
   "cell_type": "code",
   "execution_count": null,
   "metadata": {},
   "outputs": [],
   "source": []
  },
  {
   "cell_type": "code",
   "execution_count": null,
   "metadata": {},
   "outputs": [],
   "source": []
  },
  {
   "cell_type": "code",
   "execution_count": null,
   "metadata": {},
   "outputs": [],
   "source": []
  },
  {
   "cell_type": "code",
   "execution_count": null,
   "metadata": {},
   "outputs": [],
   "source": []
  },
  {
   "cell_type": "code",
   "execution_count": null,
   "metadata": {},
   "outputs": [],
   "source": []
  },
  {
   "cell_type": "code",
   "execution_count": null,
   "metadata": {},
   "outputs": [],
   "source": []
  },
  {
   "cell_type": "code",
   "execution_count": null,
   "metadata": {},
   "outputs": [],
   "source": []
  },
  {
   "cell_type": "code",
   "execution_count": null,
   "metadata": {},
   "outputs": [],
   "source": []
  }
 ],
 "metadata": {
  "kernelspec": {
   "display_name": "Python 3",
   "language": "python",
   "name": "python3"
  },
  "language_info": {
   "codemirror_mode": {
    "name": "ipython",
    "version": 3
   },
   "file_extension": ".py",
   "mimetype": "text/x-python",
   "name": "python",
   "nbconvert_exporter": "python",
   "pygments_lexer": "ipython3",
   "version": "3.12.1"
  }
 },
 "nbformat": 4,
 "nbformat_minor": 2
}
