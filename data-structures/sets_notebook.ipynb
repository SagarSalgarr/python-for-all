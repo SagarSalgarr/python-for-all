{
 "cells": [
  {
   "cell_type": "markdown",
   "metadata": {},
   "source": [
    "<h1>Sets</h1>"
   ]
  },
  {
   "cell_type": "code",
   "execution_count": 4,
   "metadata": {},
   "outputs": [
    {
     "name": "stdout",
     "output_type": "stream",
     "text": [
      "{1, 2, 3, 4, '1', 'A'}\n"
     ]
    }
   ],
   "source": [
    "#Simple set\n",
    "\n",
    "set_demo = {1,2,3,4,1,3,4,'1','A'}\n",
    "print(set_demo)"
   ]
  },
  {
   "cell_type": "code",
   "execution_count": 7,
   "metadata": {},
   "outputs": [
    {
     "name": "stdout",
     "output_type": "stream",
     "text": [
      "{'l', 'o', 'h', 'e'}\n"
     ]
    }
   ],
   "source": [
    "#determining unique letters\n",
    "a = set('hheelloo')\n",
    "print(a)\n"
   ]
  },
  {
   "cell_type": "code",
   "execution_count": 1,
   "metadata": {},
   "outputs": [
    {
     "name": "stdout",
     "output_type": "stream",
     "text": [
      " Set a is {1, 2, 3, 4, 5, 6, 7, 8, 9, 10, 'J', 'A', 'V', 'P'}\n",
      " Set b is {2, 'O', 4, 6, 8, 'T', 'Y', 'N', 'H', 'P'}\n",
      "\n",
      "Difference between seta and setb (a -b) =  {1, 'J', 3, 'A', 5, 7, 9, 10, 'V'}\n",
      "\n",
      "Update seta {1, 2, 3, 4, 5, 6, 7, 8, 9, 10, 'J', 'A', 'V', 'G', 'a', 'm', 'e', 'P'}\n",
      "Add Operation on set a {1, 2, 3, 4, 5, 6, 7, 8, 9, 10, 'J', 'm', 'A', 'V', 'e', 'P', 'Piyush', 'a', 'G'}\n",
      "{1, 2, 3, 4, 5, 6, 7, 8, 9, 10, 'J', 'm', 'A', 'V', 'e', 'P', 'a', 'G'}\n",
      "{1, 2, 3, 4, 5, 6, 7, 8, 9, 10, 'm', 'e', 'P', 'a', 'G'}\n",
      "\n",
      "\n",
      "Getting Sets... \n",
      "\n",
      " Set a and Set b\n",
      "{1, 2, 3, 4, 5, 6, 7, 8, 9, 10, 'm', 'e', 'P', 'a', 'G'}\n",
      "{2, 'O', 4, 6, 8, 'T', 'Y', 'N', 'H', 'P'}\n",
      "\n",
      "a -b {1, 3, 'a', 5, 7, 9, 10, 'G', 'm', 'e'}\n",
      "a ^ b (symmetrical difference) {1, 3, 'O', 5, 'a', 7, 'e', 9, 'T', 10, 'G', 'm', 'Y', 'N', 'H'}\n",
      "a | b (intersection)  {1, 2, 3, 4, 5, 6, 7, 8, 9, 10, 'T', 'm', 'e', 'a', 'O', 'G', 'Y', 'N', 'H', 'P'}\n"
     ]
    }
   ],
   "source": [
    "#Set Methods-\n",
    "set_a = {1,2,3,4,5,6,7,8,9,10, 'J','A','V','A','P'}\n",
    "set_b = {'P','Y','T','H','O','N',2,4,6,8}\n",
    "\n",
    "print(f\" Set a is {set_a}\\n Set b is {set_b}\")\n",
    "\n",
    "print(\"\\nDifference between seta and setb (a -b) = \",set_a.difference(set_b))\n",
    "\n",
    "#update\n",
    "set_a.update('Game')\n",
    "print(\"\\nUpdate seta\", set_a)\n",
    "\n",
    "#add\n",
    "set_a.add('Piyush')\n",
    "print(\"Add Operation on set a\",set_a)\n",
    "\n",
    "#remove\n",
    "set_a.remove('Piyush')\n",
    "print(set_a)\n",
    "\n",
    "#now i want to remove JAVA from set a - remove whole bundle of elements\n",
    "\n",
    "set_c = set(\"JAVA\")\n",
    "set_a.difference_update(set_c)\n",
    "print(set_a)\n",
    "\n",
    "#getting the sets to see what is present in them\n",
    "print(\"\\n\\nGetting Sets... \\n\\n Set a and Set b\")\n",
    "print(set_a)\n",
    "print(set_b)\n",
    "\n",
    "#more operations\n",
    "print(\"\")\n",
    "print(\"a -b\",set_a - set_b)\n",
    "print(\"a ^ b (symmetrical difference)\",set_a ^ set_b)\n",
    "print(\"a | b (intersection) \",set_a | set_b)"
   ]
  },
  {
   "cell_type": "code",
   "execution_count": null,
   "metadata": {},
   "outputs": [],
   "source": []
  },
  {
   "cell_type": "code",
   "execution_count": 58,
   "metadata": {},
   "outputs": [
    {
     "name": "stdout",
     "output_type": "stream",
     "text": [
      "frozenset({1, 2, 3})\n",
      "set()\n"
     ]
    }
   ],
   "source": [
    "set_d = frozenset([1,2,3])\n",
    "print(set_d)    \n",
    "\n",
    "empty = set()\n",
    "print(empty)"
   ]
  },
  {
   "cell_type": "code",
   "execution_count": 59,
   "metadata": {},
   "outputs": [
    {
     "ename": "TypeError",
     "evalue": "unhashable type: 'list'",
     "output_type": "error",
     "traceback": [
      "\u001b[0;31m---------------------------------------------------------------------------\u001b[0m",
      "\u001b[0;31mTypeError\u001b[0m                                 Traceback (most recent call last)",
      "Cell \u001b[0;32mIn[59], line 1\u001b[0m\n\u001b[0;32m----> 1\u001b[0m invalid_set \u001b[38;5;241m=\u001b[39m {[\u001b[38;5;241m1\u001b[39m,\u001b[38;5;241m2\u001b[39m,\u001b[38;5;241m3\u001b[39m,\u001b[38;5;241m4\u001b[39m]}\n\u001b[1;32m      2\u001b[0m \u001b[38;5;28mprint\u001b[39m(invalid_set)\n",
      "\u001b[0;31mTypeError\u001b[0m: unhashable type: 'list'"
     ]
    }
   ],
   "source": [
    "invalid_set = {[1,2,3,4]}\n",
    "print(invalid_set)"
   ]
  },
  {
   "cell_type": "code",
   "execution_count": 61,
   "metadata": {},
   "outputs": [
    {
     "name": "stdout",
     "output_type": "stream",
     "text": [
      "{(1, 2, 3, 4)}\n"
     ]
    }
   ],
   "source": [
    "valid_set = {(1,2,3,4)}\n",
    "print(valid_set)"
   ]
  },
  {
   "cell_type": "code",
   "execution_count": 63,
   "metadata": {},
   "outputs": [
    {
     "ename": "TypeError",
     "evalue": "'set' object is not subscriptable",
     "output_type": "error",
     "traceback": [
      "\u001b[0;31m---------------------------------------------------------------------------\u001b[0m",
      "\u001b[0;31mTypeError\u001b[0m                                 Traceback (most recent call last)",
      "Cell \u001b[0;32mIn[63], line 2\u001b[0m\n\u001b[1;32m      1\u001b[0m \u001b[38;5;66;03m#indexing not supported in sets\u001b[39;00m\n\u001b[0;32m----> 2\u001b[0m \u001b[43mset_a\u001b[49m\u001b[43m[\u001b[49m\u001b[38;5;241;43m1\u001b[39;49m\u001b[43m]\u001b[49m\n",
      "\u001b[0;31mTypeError\u001b[0m: 'set' object is not subscriptable"
     ]
    }
   ],
   "source": [
    "#indexing not supported in sets\n",
    "set_a[1]"
   ]
  }
 ],
 "metadata": {
  "kernelspec": {
   "display_name": "Python 3",
   "language": "python",
   "name": "python3"
  },
  "language_info": {
   "codemirror_mode": {
    "name": "ipython",
    "version": 3
   },
   "file_extension": ".py",
   "mimetype": "text/x-python",
   "name": "python",
   "nbconvert_exporter": "python",
   "pygments_lexer": "ipython3",
   "version": "3.12.1"
  }
 },
 "nbformat": 4,
 "nbformat_minor": 2
}
